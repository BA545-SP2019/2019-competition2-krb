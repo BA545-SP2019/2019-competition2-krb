{
 "cells": [
  {
   "cell_type": "code",
   "execution_count": 1,
   "metadata": {},
   "outputs": [
    {
     "name": "stderr",
     "output_type": "stream",
     "text": [
      "Using TensorFlow backend.\n"
     ]
    }
   ],
   "source": [
    "from keras.layers import Input, Dense\n",
    "from keras.models import Model\n",
    "import pandas as pd\n",
    "import numpy as np\n",
    "import matplotlib.pyplot as plt\n",
    "from sklearn import preprocessing\n",
    "from sklearn.feature_selection import RFE\n",
    "from sklearn.linear_model import LogisticRegression\n",
    "from sklearn.decomposition import PCA\n",
    "from pandas import ExcelWriter\n",
    "from sklearn.model_selection import train_test_split"
   ]
  },
  {
   "cell_type": "code",
   "execution_count": 2,
   "metadata": {},
   "outputs": [
    {
     "data": {
      "text/html": [
       "<div>\n",
       "<style scoped>\n",
       "    .dataframe tbody tr th:only-of-type {\n",
       "        vertical-align: middle;\n",
       "    }\n",
       "\n",
       "    .dataframe tbody tr th {\n",
       "        vertical-align: top;\n",
       "    }\n",
       "\n",
       "    .dataframe thead th {\n",
       "        text-align: right;\n",
       "    }\n",
       "</style>\n",
       "<table border=\"1\" class=\"dataframe\">\n",
       "  <thead>\n",
       "    <tr style=\"text-align: right;\">\n",
       "      <th></th>\n",
       "      <th>Debt_Apr_May</th>\n",
       "      <th>Debt_May_Jun</th>\n",
       "      <th>Debt_Jun_Jul</th>\n",
       "      <th>Debt_Jul_Aug</th>\n",
       "      <th>Debt_Aug_Sept</th>\n",
       "      <th>Def</th>\n",
       "    </tr>\n",
       "  </thead>\n",
       "  <tbody>\n",
       "    <tr>\n",
       "      <th>0</th>\n",
       "      <td>0.0</td>\n",
       "      <td>0.0</td>\n",
       "      <td>1.0</td>\n",
       "      <td>1.0</td>\n",
       "      <td>1.0</td>\n",
       "      <td>1.0</td>\n",
       "    </tr>\n",
       "    <tr>\n",
       "      <th>1</th>\n",
       "      <td>1.0</td>\n",
       "      <td>-1.0</td>\n",
       "      <td>-1.0</td>\n",
       "      <td>-1.0</td>\n",
       "      <td>1.0</td>\n",
       "      <td>1.0</td>\n",
       "    </tr>\n",
       "    <tr>\n",
       "      <th>2</th>\n",
       "      <td>1.0</td>\n",
       "      <td>-1.0</td>\n",
       "      <td>-1.0</td>\n",
       "      <td>-1.0</td>\n",
       "      <td>1.0</td>\n",
       "      <td>0.0</td>\n",
       "    </tr>\n",
       "    <tr>\n",
       "      <th>3</th>\n",
       "      <td>-1.0</td>\n",
       "      <td>-1.0</td>\n",
       "      <td>1.0</td>\n",
       "      <td>-1.0</td>\n",
       "      <td>-1.0</td>\n",
       "      <td>0.0</td>\n",
       "    </tr>\n",
       "    <tr>\n",
       "      <th>4</th>\n",
       "      <td>1.0</td>\n",
       "      <td>-1.0</td>\n",
       "      <td>1.0</td>\n",
       "      <td>-1.0</td>\n",
       "      <td>1.0</td>\n",
       "      <td>0.0</td>\n",
       "    </tr>\n",
       "  </tbody>\n",
       "</table>\n",
       "</div>"
      ],
      "text/plain": [
       "   Debt_Apr_May  Debt_May_Jun  Debt_Jun_Jul  Debt_Jul_Aug  Debt_Aug_Sept  Def\n",
       "0           0.0           0.0           1.0           1.0            1.0  1.0\n",
       "1           1.0          -1.0          -1.0          -1.0            1.0  1.0\n",
       "2           1.0          -1.0          -1.0          -1.0            1.0  0.0\n",
       "3          -1.0          -1.0           1.0          -1.0           -1.0  0.0\n",
       "4           1.0          -1.0           1.0          -1.0            1.0  0.0"
      ]
     },
     "execution_count": 2,
     "metadata": {},
     "output_type": "execute_result"
    }
   ],
   "source": [
    "df = pd.read_csv('Output.csv')\n",
    "df = df.drop(columns = ['Unnamed: 0'])\n",
    "df['Def'] = df.Default\n",
    "df = df.drop(columns = ['Default'])\n",
    "df.head()"
   ]
  },
  {
   "cell_type": "code",
   "execution_count": 3,
   "metadata": {},
   "outputs": [
    {
     "name": "stdout",
     "output_type": "stream",
     "text": [
      "WARNING:tensorflow:From /home/jupyter-bwalsh/.local/lib/python3.6/site-packages/tensorflow/python/framework/op_def_library.py:263: colocate_with (from tensorflow.python.framework.ops) is deprecated and will be removed in a future version.\n",
      "Instructions for updating:\n",
      "Colocations handled automatically by placer.\n"
     ]
    }
   ],
   "source": [
    "encoding_dim = 3  # 32 floats -> compression of factor 24.5, assuming the input is 784 floats\n",
    "\n",
    "# this is our input placeholder\n",
    "input_img = Input(shape=(6,))\n",
    "# \"encoded\" is the encoded representation of the input\n",
    "encoded = Dense(encoding_dim, activation='relu')(input_img)\n",
    "# \"decoded\" is the lossy reconstruction of the input\n",
    "decoded = Dense(6, activation='sigmoid')(encoded)\n",
    "\n",
    "# this model maps an input to its reconstruction\n",
    "autoencoder = Model(input_img, decoded)"
   ]
  },
  {
   "cell_type": "code",
   "execution_count": 4,
   "metadata": {},
   "outputs": [],
   "source": [
    "# this model maps an input to its encoded representation\n",
    "encoder = Model(input_img, encoded)"
   ]
  },
  {
   "cell_type": "code",
   "execution_count": 5,
   "metadata": {},
   "outputs": [],
   "source": [
    "# create a placeholder for an encoded (32-dimensional) input\n",
    "encoded_input = Input(shape=(encoding_dim,))\n",
    "# retrieve the last layer of the autoencoder model\n",
    "decoder_layer = autoencoder.layers[-1]\n",
    "# create the decoder model\n",
    "decoder = Model(encoded_input, decoder_layer(encoded_input))"
   ]
  },
  {
   "cell_type": "code",
   "execution_count": 6,
   "metadata": {},
   "outputs": [],
   "source": [
    "autoencoder.compile(optimizer='adadelta', loss='binary_crossentropy')"
   ]
  },
  {
   "cell_type": "code",
   "execution_count": 7,
   "metadata": {},
   "outputs": [
    {
     "data": {
      "text/plain": [
       "['Debt_Apr_May',\n",
       " 'Debt_May_Jun',\n",
       " 'Debt_Jun_Jul',\n",
       " 'Debt_Jul_Aug',\n",
       " 'Debt_Aug_Sept',\n",
       " 'Def']"
      ]
     },
     "execution_count": 7,
     "metadata": {},
     "output_type": "execute_result"
    }
   ],
   "source": [
    "cols = list(df.columns)\n",
    "cols"
   ]
  },
  {
   "cell_type": "code",
   "execution_count": 8,
   "metadata": {},
   "outputs": [],
   "source": [
    "X = df[cols[:]].values\n",
    "y = df.Def.values"
   ]
  },
  {
   "cell_type": "code",
   "execution_count": 9,
   "metadata": {},
   "outputs": [],
   "source": [
    "x_train, x_test, y_train, y_test = train_test_split(X, y, test_size=0.2, random_state=123)"
   ]
  },
  {
   "cell_type": "code",
   "execution_count": 10,
   "metadata": {},
   "outputs": [
    {
     "name": "stdout",
     "output_type": "stream",
     "text": [
      "(23985, 6)\n",
      "(5997, 6)\n"
     ]
    }
   ],
   "source": [
    "x_train = x_train.astype('float32')\n",
    "x_test = x_test.astype('float32')\n",
    "x_train = x_train.reshape((len(x_train), np.prod(x_train.shape[1:])))\n",
    "x_test = x_test.reshape((len(x_test), np.prod(x_test.shape[1:])))\n",
    "print (x_train.shape)\n",
    "print (x_test.shape)"
   ]
  },
  {
   "cell_type": "code",
   "execution_count": 11,
   "metadata": {},
   "outputs": [
    {
     "name": "stdout",
     "output_type": "stream",
     "text": [
      "WARNING:tensorflow:From /home/jupyter-bwalsh/.local/lib/python3.6/site-packages/tensorflow/python/ops/math_ops.py:3066: to_int32 (from tensorflow.python.ops.math_ops) is deprecated and will be removed in a future version.\n",
      "Instructions for updating:\n",
      "Use tf.cast instead.\n",
      "Train on 23985 samples, validate on 5997 samples\n",
      "Epoch 1/50\n",
      "23985/23985 [==============================] - 0s 15us/step - loss: 0.7001 - val_loss: 0.5986\n",
      "Epoch 2/50\n",
      "23985/23985 [==============================] - 0s 6us/step - loss: 0.5098 - val_loss: 0.3987\n",
      "Epoch 3/50\n",
      "23985/23985 [==============================] - 0s 6us/step - loss: 0.2556 - val_loss: 0.0455\n",
      "Epoch 4/50\n",
      "23985/23985 [==============================] - 0s 6us/step - loss: -0.2965 - val_loss: -0.7807\n",
      "Epoch 5/50\n",
      "23985/23985 [==============================] - 0s 6us/step - loss: -1.1490 - val_loss: -1.4943\n",
      "Epoch 6/50\n",
      "23985/23985 [==============================] - 0s 6us/step - loss: -1.6869 - val_loss: -1.9498\n",
      "Epoch 7/50\n",
      "23985/23985 [==============================] - 0s 6us/step - loss: -2.1427 - val_loss: -2.4241\n",
      "Epoch 8/50\n",
      "23985/23985 [==============================] - 0s 6us/step - loss: -2.6541 - val_loss: -2.8939\n",
      "Epoch 9/50\n",
      "23985/23985 [==============================] - 0s 6us/step - loss: -3.0077 - val_loss: -3.1436\n",
      "Epoch 10/50\n",
      "23985/23985 [==============================] - 0s 6us/step - loss: -3.1984 - val_loss: -3.2947\n",
      "Epoch 11/50\n",
      "23985/23985 [==============================] - 0s 6us/step - loss: -3.3089 - val_loss: -3.3856\n",
      "Epoch 12/50\n",
      "23985/23985 [==============================] - 0s 6us/step - loss: -3.3852 - val_loss: -3.4497\n",
      "Epoch 13/50\n",
      "23985/23985 [==============================] - 0s 6us/step - loss: -3.4422 - val_loss: -3.5007\n",
      "Epoch 14/50\n",
      "23985/23985 [==============================] - 0s 6us/step - loss: -3.4866 - val_loss: -3.5396\n",
      "Epoch 15/50\n",
      "23985/23985 [==============================] - 0s 6us/step - loss: -3.5221 - val_loss: -3.5717\n",
      "Epoch 16/50\n",
      "23985/23985 [==============================] - 0s 6us/step - loss: -3.5514 - val_loss: -3.6010\n",
      "Epoch 17/50\n",
      "23985/23985 [==============================] - 0s 6us/step - loss: -3.5753 - val_loss: -3.6230\n",
      "Epoch 18/50\n",
      "23985/23985 [==============================] - 0s 6us/step - loss: -3.5979 - val_loss: -3.6503\n",
      "Epoch 19/50\n",
      "23985/23985 [==============================] - 0s 6us/step - loss: -3.6229 - val_loss: -3.6775\n",
      "Epoch 20/50\n",
      "23985/23985 [==============================] - 0s 6us/step - loss: -3.6504 - val_loss: -3.7054\n",
      "Epoch 21/50\n",
      "23985/23985 [==============================] - 0s 6us/step - loss: -3.6758 - val_loss: -3.7317\n",
      "Epoch 22/50\n",
      "23985/23985 [==============================] - 0s 6us/step - loss: -3.6992 - val_loss: -3.7570\n",
      "Epoch 23/50\n",
      "23985/23985 [==============================] - 0s 6us/step - loss: -3.7191 - val_loss: -3.7678\n",
      "Epoch 24/50\n",
      "23985/23985 [==============================] - 0s 6us/step - loss: -3.7369 - val_loss: -3.7910\n",
      "Epoch 25/50\n",
      "23985/23985 [==============================] - 0s 6us/step - loss: -3.7567 - val_loss: -3.8107\n",
      "Epoch 26/50\n",
      "23985/23985 [==============================] - 0s 6us/step - loss: -3.7744 - val_loss: -3.8267\n",
      "Epoch 27/50\n",
      "23985/23985 [==============================] - 0s 6us/step - loss: -3.7921 - val_loss: -3.8474\n",
      "Epoch 28/50\n",
      "23985/23985 [==============================] - 0s 6us/step - loss: -3.8098 - val_loss: -3.8581\n",
      "Epoch 29/50\n",
      "23985/23985 [==============================] - 0s 6us/step - loss: -3.8221 - val_loss: -3.8769\n",
      "Epoch 30/50\n",
      "23985/23985 [==============================] - 0s 6us/step - loss: -3.8359 - val_loss: -3.8888\n",
      "Epoch 31/50\n",
      "23985/23985 [==============================] - 0s 6us/step - loss: -3.8497 - val_loss: -3.9031\n",
      "Epoch 32/50\n",
      "23985/23985 [==============================] - 0s 6us/step - loss: -3.8635 - val_loss: -3.9135\n",
      "Epoch 33/50\n",
      "23985/23985 [==============================] - 0s 6us/step - loss: -3.8750 - val_loss: -3.9181\n",
      "Epoch 34/50\n",
      "23985/23985 [==============================] - 0s 6us/step - loss: -3.8876 - val_loss: -3.9381\n",
      "Epoch 35/50\n",
      "23985/23985 [==============================] - 0s 6us/step - loss: -3.8983 - val_loss: -3.9457\n",
      "Epoch 36/50\n",
      "23985/23985 [==============================] - 0s 6us/step - loss: -3.9081 - val_loss: -3.9532\n",
      "Epoch 37/50\n",
      "23985/23985 [==============================] - 0s 6us/step - loss: -3.9179 - val_loss: -3.9592\n",
      "Epoch 38/50\n",
      "23985/23985 [==============================] - 0s 6us/step - loss: -3.9272 - val_loss: -3.9816\n",
      "Epoch 39/50\n",
      "23985/23985 [==============================] - 0s 6us/step - loss: -3.9374 - val_loss: -3.9842\n",
      "Epoch 40/50\n",
      "23985/23985 [==============================] - 0s 6us/step - loss: -3.9480 - val_loss: -4.0000\n",
      "Epoch 41/50\n",
      "23985/23985 [==============================] - 0s 6us/step - loss: -3.9579 - val_loss: -4.0045\n",
      "Epoch 42/50\n",
      "23985/23985 [==============================] - 0s 6us/step - loss: -3.9681 - val_loss: -4.0131\n",
      "Epoch 43/50\n",
      "23985/23985 [==============================] - 0s 6us/step - loss: -3.9771 - val_loss: -4.0241\n",
      "Epoch 44/50\n",
      "23985/23985 [==============================] - 0s 6us/step - loss: -3.9862 - val_loss: -4.0306\n",
      "Epoch 45/50\n",
      "23985/23985 [==============================] - 0s 6us/step - loss: -3.9954 - val_loss: -4.0424\n",
      "Epoch 46/50\n",
      "23985/23985 [==============================] - 0s 6us/step - loss: -4.0026 - val_loss: -4.0486\n",
      "Epoch 47/50\n",
      "23985/23985 [==============================] - 0s 6us/step - loss: -4.0112 - val_loss: -4.0593\n",
      "Epoch 48/50\n",
      "23985/23985 [==============================] - 0s 6us/step - loss: -4.0192 - val_loss: -4.0636\n",
      "Epoch 49/50\n",
      "23985/23985 [==============================] - 0s 5us/step - loss: -4.0265 - val_loss: -4.0727\n",
      "Epoch 50/50\n",
      "23985/23985 [==============================] - 0s 5us/step - loss: -4.0337 - val_loss: -4.0731\n"
     ]
    },
    {
     "data": {
      "text/plain": [
       "<keras.callbacks.History at 0x7f25d215ac88>"
      ]
     },
     "execution_count": 11,
     "metadata": {},
     "output_type": "execute_result"
    }
   ],
   "source": [
    "autoencoder.fit(x_train, x_train,\n",
    "                epochs=50,\n",
    "                batch_size=256,\n",
    "                shuffle=False,\n",
    "                validation_data=(x_test, x_test))"
   ]
  },
  {
   "cell_type": "code",
   "execution_count": 12,
   "metadata": {},
   "outputs": [],
   "source": [
    "# encode and decode some digits\n",
    "# note that we take them from the *test* set\n",
    "encoded_imgs = encoder.predict(x_test)\n",
    "decoded_imgs = decoder.predict(encoded_imgs)"
   ]
  },
  {
   "cell_type": "code",
   "execution_count": 13,
   "metadata": {},
   "outputs": [
    {
     "data": {
      "image/png": "[encoded data removed]",
      "text/plain": [
       "<Figure size 1440x288 with 20 Axes>"
      ]
     },
     "metadata": {},
     "output_type": "display_data"
    }
   ],
   "source": [
    "# use Matplotlib (don't ask)\n",
    "import matplotlib.pyplot as plt\n",
    "\n",
    "n = 10  # how many digits we will display\n",
    "plt.figure(figsize=(20, 4))\n",
    "for i in range(n):\n",
    "    # display original\n",
    "    ax = plt.subplot(2, n, i + 1)\n",
    "    plt.imshow(x_test[i].reshape(6, 1))\n",
    "    plt.gray()\n",
    "    ax.get_xaxis().set_visible(False)\n",
    "    ax.get_yaxis().set_visible(False)\n",
    "\n",
    "    # display reconstruction\n",
    "    ax = plt.subplot(2, n, i + 1 + n)\n",
    "    plt.imshow(decoded_imgs[i].reshape(6, 1))\n",
    "    plt.gray()\n",
    "    ax.get_xaxis().set_visible(False)\n",
    "    ax.get_yaxis().set_visible(False)\n",
    "plt.show()"
   ]
  },
  {
   "cell_type": "code",
   "execution_count": 14,
   "metadata": {},
   "outputs": [
    {
     "name": "stdout",
     "output_type": "stream",
     "text": [
      "[[ 7.565826  10.668968  11.965842 ]\n",
      " [ 6.149975   6.182042   1.6365685]\n",
      " [ 1.4187212  9.364634   4.0383253]\n",
      " ...\n",
      " [ 6.271212   9.880376   0.       ]\n",
      " [ 7.6945705 14.387291   4.624918 ]\n",
      " [ 7.6945705 14.38729    4.6249185]]\n"
     ]
    }
   ],
   "source": [
    "print(encoded_imgs)"
   ]
  },
  {
   "cell_type": "code",
   "execution_count": 15,
   "metadata": {},
   "outputs": [
    {
     "data": {
      "text/plain": [
       "(5997, 3)"
      ]
     },
     "execution_count": 15,
     "metadata": {},
     "output_type": "execute_result"
    }
   ],
   "source": [
    "encoded_imgs.shape"
   ]
  },
  {
   "cell_type": "code",
   "execution_count": 21,
   "metadata": {},
   "outputs": [
    {
     "data": {
      "text/html": [
       "<div>\n",
       "<style scoped>\n",
       "    .dataframe tbody tr th:only-of-type {\n",
       "        vertical-align: middle;\n",
       "    }\n",
       "\n",
       "    .dataframe tbody tr th {\n",
       "        vertical-align: top;\n",
       "    }\n",
       "\n",
       "    .dataframe thead th {\n",
       "        text-align: right;\n",
       "    }\n",
       "</style>\n",
       "<table border=\"1\" class=\"dataframe\">\n",
       "  <thead>\n",
       "    <tr style=\"text-align: right;\">\n",
       "      <th></th>\n",
       "      <th>Debt_Apr_May</th>\n",
       "      <th>Debt_May_Jun</th>\n",
       "      <th>Debt_Jun_Jul</th>\n",
       "      <th>Debt_Jul_Aug</th>\n",
       "      <th>Debt_Aug_Sept</th>\n",
       "      <th>Def</th>\n",
       "    </tr>\n",
       "  </thead>\n",
       "  <tbody>\n",
       "    <tr>\n",
       "      <th>0</th>\n",
       "      <td>0.0</td>\n",
       "      <td>0.0</td>\n",
       "      <td>1.0</td>\n",
       "      <td>1.0</td>\n",
       "      <td>1.0</td>\n",
       "      <td>1.0</td>\n",
       "    </tr>\n",
       "    <tr>\n",
       "      <th>1</th>\n",
       "      <td>1.0</td>\n",
       "      <td>-1.0</td>\n",
       "      <td>-1.0</td>\n",
       "      <td>-1.0</td>\n",
       "      <td>1.0</td>\n",
       "      <td>1.0</td>\n",
       "    </tr>\n",
       "  </tbody>\n",
       "</table>\n",
       "</div>"
      ],
      "text/plain": [
       "   Debt_Apr_May  Debt_May_Jun  Debt_Jun_Jul  Debt_Jul_Aug  Debt_Aug_Sept  Def\n",
       "0           0.0           0.0           1.0           1.0            1.0  1.0\n",
       "1           1.0          -1.0          -1.0          -1.0            1.0  1.0"
      ]
     },
     "execution_count": 21,
     "metadata": {},
     "output_type": "execute_result"
    }
   ],
   "source": [
    "df.head(2)"
   ]
  },
  {
   "cell_type": "code",
   "execution_count": 22,
   "metadata": {},
   "outputs": [],
   "source": [
    "test = decoded_imgs[2,:]"
   ]
  },
  {
   "cell_type": "code",
   "execution_count": 23,
   "metadata": {},
   "outputs": [
    {
     "data": {
      "text/plain": [
       "array([1.        , 0.9067106 , 0.1033321 , 0.        , 0.46350592,\n",
       "       0.19387648], dtype=float32)"
      ]
     },
     "execution_count": 23,
     "metadata": {},
     "output_type": "execute_result"
    }
   ],
   "source": [
    "test"
   ]
  },
  {
   "cell_type": "code",
   "execution_count": 24,
   "metadata": {},
   "outputs": [
    {
     "data": {
      "text/plain": [
       "(5997, 6)"
      ]
     },
     "execution_count": 24,
     "metadata": {},
     "output_type": "execute_result"
    }
   ],
   "source": [
    "decoded_imgs.shape"
   ]
  },
  {
   "cell_type": "code",
   "execution_count": 20,
   "metadata": {},
   "outputs": [
    {
     "name": "stdout",
     "output_type": "stream",
     "text": [
      "[[ 1. -1.  1. -1. -1.  0.]\n",
      " [ 1. -1.  1.  1. -1.  0.]\n",
      " [ 1.  1. -1. -1.  1.  0.]\n",
      " ...\n",
      " [ 1.  1. -1.  1. -1.  0.]\n",
      " [ 1.  1. -1. -1. -1.  1.]\n",
      " [ 1.  1. -1. -1. -1.  1.]]\n"
     ]
    }
   ],
   "source": [
    "print(x_test)"
   ]
  },
  {
   "cell_type": "code",
   "execution_count": null,
   "metadata": {},
   "outputs": [],
   "source": []
  }
 ],
 "metadata": {
  "kernelspec": {
   "display_name": "Python 3",
   "language": "python",
   "name": "python3"
  },
  "language_info": {
   "codemirror_mode": {
    "name": "ipython",
    "version": 3
   },
   "file_extension": ".py",
   "mimetype": "text/x-python",
   "name": "python",
   "nbconvert_exporter": "python",
   "pygments_lexer": "ipython3",
   "version": "3.6.5"
  }
 },
 "nbformat": 4,
 "nbformat_minor": 2
}
