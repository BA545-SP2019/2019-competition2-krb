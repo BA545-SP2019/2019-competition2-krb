{
 "cells": [
  {
   "cell_type": "code",
   "execution_count": 1,
   "metadata": {},
   "outputs": [
    {
     "name": "stderr",
     "output_type": "stream",
     "text": [
      "Using TensorFlow backend.\n"
     ]
    }
   ],
   "source": [
    "from keras.layers import Input, Dense\n",
    "from keras.models import Model\n",
    "import pandas as pd\n",
    "import numpy as np\n",
    "import matplotlib.pyplot as plt\n",
    "from sklearn import preprocessing\n",
    "from sklearn.feature_selection import RFE\n",
    "from sklearn.linear_model import LogisticRegression\n",
    "from sklearn.decomposition import PCA\n",
    "from pandas import ExcelWriter\n",
    "from sklearn.model_selection import train_test_split"
   ]
  },
  {
   "cell_type": "code",
   "execution_count": 2,
   "metadata": {},
   "outputs": [
    {
     "data": {
      "text/html": [
       "<div>\n",
       "<style scoped>\n",
       "    .dataframe tbody tr th:only-of-type {\n",
       "        vertical-align: middle;\n",
       "    }\n",
       "\n",
       "    .dataframe tbody tr th {\n",
       "        vertical-align: top;\n",
       "    }\n",
       "\n",
       "    .dataframe thead th {\n",
       "        text-align: right;\n",
       "    }\n",
       "</style>\n",
       "<table border=\"1\" class=\"dataframe\">\n",
       "  <thead>\n",
       "    <tr style=\"text-align: right;\">\n",
       "      <th></th>\n",
       "      <th>Debt_Apr_May</th>\n",
       "      <th>Debt_May_Jun</th>\n",
       "      <th>Debt_Jun_Jul</th>\n",
       "      <th>Debt_Jul_Aug</th>\n",
       "      <th>Debt_Aug_Sept</th>\n",
       "      <th>Def</th>\n",
       "    </tr>\n",
       "  </thead>\n",
       "  <tbody>\n",
       "    <tr>\n",
       "      <th>0</th>\n",
       "      <td>0.0</td>\n",
       "      <td>0.0</td>\n",
       "      <td>1.0</td>\n",
       "      <td>1.0</td>\n",
       "      <td>1.0</td>\n",
       "      <td>1.0</td>\n",
       "    </tr>\n",
       "    <tr>\n",
       "      <th>1</th>\n",
       "      <td>1.0</td>\n",
       "      <td>-1.0</td>\n",
       "      <td>-1.0</td>\n",
       "      <td>-1.0</td>\n",
       "      <td>1.0</td>\n",
       "      <td>1.0</td>\n",
       "    </tr>\n",
       "    <tr>\n",
       "      <th>2</th>\n",
       "      <td>1.0</td>\n",
       "      <td>-1.0</td>\n",
       "      <td>-1.0</td>\n",
       "      <td>-1.0</td>\n",
       "      <td>1.0</td>\n",
       "      <td>0.0</td>\n",
       "    </tr>\n",
       "    <tr>\n",
       "      <th>3</th>\n",
       "      <td>-1.0</td>\n",
       "      <td>-1.0</td>\n",
       "      <td>1.0</td>\n",
       "      <td>-1.0</td>\n",
       "      <td>-1.0</td>\n",
       "      <td>0.0</td>\n",
       "    </tr>\n",
       "    <tr>\n",
       "      <th>4</th>\n",
       "      <td>1.0</td>\n",
       "      <td>-1.0</td>\n",
       "      <td>1.0</td>\n",
       "      <td>-1.0</td>\n",
       "      <td>1.0</td>\n",
       "      <td>0.0</td>\n",
       "    </tr>\n",
       "  </tbody>\n",
       "</table>\n",
       "</div>"
      ],
      "text/plain": [
       "   Debt_Apr_May  Debt_May_Jun  Debt_Jun_Jul  Debt_Jul_Aug  Debt_Aug_Sept  Def\n",
       "0           0.0           0.0           1.0           1.0            1.0  1.0\n",
       "1           1.0          -1.0          -1.0          -1.0            1.0  1.0\n",
       "2           1.0          -1.0          -1.0          -1.0            1.0  0.0\n",
       "3          -1.0          -1.0           1.0          -1.0           -1.0  0.0\n",
       "4           1.0          -1.0           1.0          -1.0            1.0  0.0"
      ]
     },
     "execution_count": 2,
     "metadata": {},
     "output_type": "execute_result"
    }
   ],
   "source": [
    "df = pd.read_csv('Output.csv')\n",
    "df = df.drop(columns = ['Unnamed: 0'])\n",
    "df['Def'] = df.Default\n",
    "df = df.drop(columns = ['Default'])\n",
    "df.head()"
   ]
  },
  {
   "cell_type": "code",
   "execution_count": 3,
   "metadata": {},
   "outputs": [
    {
     "name": "stdout",
     "output_type": "stream",
     "text": [
      "WARNING:tensorflow:From /home/jupyter-bwalsh/.local/lib/python3.6/site-packages/tensorflow/python/framework/op_def_library.py:263: colocate_with (from tensorflow.python.framework.ops) is deprecated and will be removed in a future version.\n",
      "Instructions for updating:\n",
      "Colocations handled automatically by placer.\n"
     ]
    }
   ],
   "source": [
    "encoding_dim = 3  # 32 floats -> compression of factor 24.5, assuming the input is 784 floats\n",
    "\n",
    "# this is our input placeholder\n",
    "input_img = Input(shape=(6,))\n",
    "# \"encoded\" is the encoded representation of the input\n",
    "encoded = Dense(encoding_dim, activation='relu')(input_img)\n",
    "# \"decoded\" is the lossy reconstruction of the input\n",
    "decoded = Dense(6, activation='sigmoid')(encoded)\n",
    "\n",
    "# this model maps an input to its reconstruction\n",
    "autoencoder = Model(input_img, decoded)"
   ]
  },
  {
   "cell_type": "code",
   "execution_count": 4,
   "metadata": {},
   "outputs": [],
   "source": [
    "# this model maps an input to its encoded representation\n",
    "encoder = Model(input_img, encoded)"
   ]
  },
  {
   "cell_type": "code",
   "execution_count": 5,
   "metadata": {},
   "outputs": [],
   "source": [
    "# create a placeholder for an encoded (32-dimensional) input\n",
    "encoded_input = Input(shape=(encoding_dim,))\n",
    "# retrieve the last layer of the autoencoder model\n",
    "decoder_layer = autoencoder.layers[-1]\n",
    "# create the decoder model\n",
    "decoder = Model(encoded_input, decoder_layer(encoded_input))"
   ]
  },
  {
   "cell_type": "code",
   "execution_count": 6,
   "metadata": {},
   "outputs": [],
   "source": [
    "autoencoder.compile(optimizer='adadelta', loss='binary_crossentropy')"
   ]
  },
  {
   "cell_type": "code",
   "execution_count": 7,
   "metadata": {},
   "outputs": [
    {
     "data": {
      "text/plain": [
       "['Debt_Apr_May',\n",
       " 'Debt_May_Jun',\n",
       " 'Debt_Jun_Jul',\n",
       " 'Debt_Jul_Aug',\n",
       " 'Debt_Aug_Sept',\n",
       " 'Def']"
      ]
     },
     "execution_count": 7,
     "metadata": {},
     "output_type": "execute_result"
    }
   ],
   "source": [
    "cols = list(df.columns)\n",
    "cols"
   ]
  },
  {
   "cell_type": "code",
   "execution_count": 8,
   "metadata": {},
   "outputs": [],
   "source": [
    "X = df[cols[:]].values\n",
    "y = df.Def.values"
   ]
  },
  {
   "cell_type": "code",
   "execution_count": 9,
   "metadata": {},
   "outputs": [],
   "source": [
    "x_train, x_test, y_train, y_test = train_test_split(X, y, test_size=0.2, random_state=123)"
   ]
  },
  {
   "cell_type": "code",
   "execution_count": 10,
   "metadata": {},
   "outputs": [
    {
     "name": "stdout",
     "output_type": "stream",
     "text": [
      "(23985, 6)\n",
      "(5997, 6)\n"
     ]
    }
   ],
   "source": [
    "x_train = x_train.astype('float32')\n",
    "x_test = x_test.astype('float32')\n",
    "x_train = x_train.reshape((len(x_train), np.prod(x_train.shape[1:])))\n",
    "x_test = x_test.reshape((len(x_test), np.prod(x_test.shape[1:])))\n",
    "print (x_train.shape)\n",
    "print (x_test.shape)"
   ]
  },
  {
   "cell_type": "code",
   "execution_count": 11,
   "metadata": {},
   "outputs": [
    {
     "name": "stdout",
     "output_type": "stream",
     "text": [
      "WARNING:tensorflow:From /home/jupyter-bwalsh/.local/lib/python3.6/site-packages/tensorflow/python/ops/math_ops.py:3066: to_int32 (from tensorflow.python.ops.math_ops) is deprecated and will be removed in a future version.\n",
      "Instructions for updating:\n",
      "Use tf.cast instead.\n",
      "Train on 23985 samples, validate on 5997 samples\n",
      "Epoch 1/50\n",
      "23985/23985 [==============================] - 1s 22us/step - loss: 0.7147 - val_loss: 0.5628\n",
      "Epoch 2/50\n",
      "23985/23985 [==============================] - 0s 6us/step - loss: 0.3871 - val_loss: 0.2031\n",
      "Epoch 3/50\n",
      "23985/23985 [==============================] - 0s 6us/step - loss: -0.0672 - val_loss: -0.4252\n",
      "Epoch 4/50\n",
      "23985/23985 [==============================] - 0s 6us/step - loss: -0.9010 - val_loss: -1.1433\n",
      "Epoch 5/50\n",
      "23985/23985 [==============================] - 0s 6us/step - loss: -1.2955 - val_loss: -1.4244\n",
      "Epoch 6/50\n",
      "23985/23985 [==============================] - 0s 6us/step - loss: -1.5880 - val_loss: -1.7983\n",
      "Epoch 7/50\n",
      "23985/23985 [==============================] - 0s 6us/step - loss: -2.1390 - val_loss: -2.5979\n",
      "Epoch 8/50\n",
      "23985/23985 [==============================] - 0s 6us/step - loss: -2.8345 - val_loss: -3.1357\n",
      "Epoch 9/50\n",
      "23985/23985 [==============================] - 0s 6us/step - loss: -3.2174 - val_loss: -3.3769\n",
      "Epoch 10/50\n",
      "23985/23985 [==============================] - 0s 6us/step - loss: -3.3820 - val_loss: -3.4975\n",
      "Epoch 11/50\n",
      "23985/23985 [==============================] - 0s 6us/step - loss: -3.4876 - val_loss: -3.5899\n",
      "Epoch 12/50\n",
      "23985/23985 [==============================] - 0s 6us/step - loss: -3.5594 - val_loss: -3.6446\n",
      "Epoch 13/50\n",
      "23985/23985 [==============================] - 0s 6us/step - loss: -3.6109 - val_loss: -3.6849\n",
      "Epoch 14/50\n",
      "23985/23985 [==============================] - 0s 6us/step - loss: -3.6517 - val_loss: -3.7281\n",
      "Epoch 15/50\n",
      "23985/23985 [==============================] - 0s 6us/step - loss: -3.6870 - val_loss: -3.7593\n",
      "Epoch 16/50\n",
      "23985/23985 [==============================] - 0s 6us/step - loss: -3.7225 - val_loss: -3.7972\n",
      "Epoch 17/50\n",
      "23985/23985 [==============================] - 0s 6us/step - loss: -3.7621 - val_loss: -3.8328\n",
      "Epoch 18/50\n",
      "23985/23985 [==============================] - 0s 6us/step - loss: -3.8070 - val_loss: -3.8841\n",
      "Epoch 19/50\n",
      "23985/23985 [==============================] - 0s 6us/step - loss: -3.8549 - val_loss: -3.9337\n",
      "Epoch 20/50\n",
      "23985/23985 [==============================] - 0s 6us/step - loss: -3.9002 - val_loss: -3.9646\n",
      "Epoch 21/50\n",
      "23985/23985 [==============================] - 0s 6us/step - loss: -3.9360 - val_loss: -4.0000\n",
      "Epoch 22/50\n",
      "23985/23985 [==============================] - 0s 6us/step - loss: -3.9630 - val_loss: -4.0298\n",
      "Epoch 23/50\n",
      "23985/23985 [==============================] - 0s 6us/step - loss: -3.9851 - val_loss: -4.0537\n",
      "Epoch 24/50\n",
      "23985/23985 [==============================] - 0s 6us/step - loss: -4.0076 - val_loss: -4.0691\n",
      "Epoch 25/50\n",
      "23985/23985 [==============================] - 0s 6us/step - loss: -4.0265 - val_loss: -4.0821\n",
      "Epoch 26/50\n",
      "23985/23985 [==============================] - 0s 6us/step - loss: -4.0431 - val_loss: -4.1018\n",
      "Epoch 27/50\n",
      "23985/23985 [==============================] - 0s 6us/step - loss: -4.0588 - val_loss: -4.1141\n",
      "Epoch 28/50\n",
      "23985/23985 [==============================] - 0s 6us/step - loss: -4.0743 - val_loss: -4.1326\n",
      "Epoch 29/50\n",
      "23985/23985 [==============================] - 0s 6us/step - loss: -4.0857 - val_loss: -4.1427\n",
      "Epoch 30/50\n",
      "23985/23985 [==============================] - 0s 6us/step - loss: -4.0958 - val_loss: -4.1540\n",
      "Epoch 31/50\n",
      "23985/23985 [==============================] - 0s 6us/step - loss: -4.1039 - val_loss: -4.1581\n",
      "Epoch 32/50\n",
      "23985/23985 [==============================] - 0s 6us/step - loss: -4.1113 - val_loss: -4.1629\n",
      "Epoch 33/50\n",
      "23985/23985 [==============================] - 0s 6us/step - loss: -4.1194 - val_loss: -4.1714\n",
      "Epoch 34/50\n",
      "23985/23985 [==============================] - 0s 6us/step - loss: -4.1263 - val_loss: -4.1803\n",
      "Epoch 35/50\n",
      "23985/23985 [==============================] - 0s 6us/step - loss: -4.1329 - val_loss: -4.1850\n",
      "Epoch 36/50\n",
      "23985/23985 [==============================] - 0s 6us/step - loss: -4.1388 - val_loss: -4.1933\n",
      "Epoch 37/50\n",
      "23985/23985 [==============================] - 0s 6us/step - loss: -4.1435 - val_loss: -4.2002\n",
      "Epoch 38/50\n",
      "23985/23985 [==============================] - 0s 6us/step - loss: -4.1483 - val_loss: -4.2027\n",
      "Epoch 39/50\n",
      "23985/23985 [==============================] - 0s 6us/step - loss: -4.1539 - val_loss: -4.2048\n",
      "Epoch 40/50\n",
      "23985/23985 [==============================] - 0s 6us/step - loss: -4.1581 - val_loss: -4.2176\n",
      "Epoch 41/50\n",
      "23985/23985 [==============================] - 0s 6us/step - loss: -4.1618 - val_loss: -4.2194\n",
      "Epoch 42/50\n",
      "23985/23985 [==============================] - 0s 6us/step - loss: -4.1665 - val_loss: -4.2199\n",
      "Epoch 43/50\n",
      "23985/23985 [==============================] - 0s 6us/step - loss: -4.1709 - val_loss: -4.2230\n",
      "Epoch 44/50\n",
      "23985/23985 [==============================] - 0s 6us/step - loss: -4.1728 - val_loss: -4.2181\n",
      "Epoch 45/50\n",
      "23985/23985 [==============================] - 0s 6us/step - loss: -4.1762 - val_loss: -4.2282\n",
      "Epoch 46/50\n",
      "23985/23985 [==============================] - 0s 6us/step - loss: -4.1798 - val_loss: -4.2344\n",
      "Epoch 47/50\n",
      "23985/23985 [==============================] - 0s 6us/step - loss: -4.1825 - val_loss: -4.2394\n",
      "Epoch 48/50\n",
      "23985/23985 [==============================] - 0s 6us/step - loss: -4.1862 - val_loss: -4.2391\n",
      "Epoch 49/50\n",
      "23985/23985 [==============================] - 0s 6us/step - loss: -4.1890 - val_loss: -4.2424\n",
      "Epoch 50/50\n",
      "23985/23985 [==============================] - 0s 6us/step - loss: -4.1919 - val_loss: -4.2452\n"
     ]
    },
    {
     "data": {
      "text/plain": [
       "<keras.callbacks.History at 0x7f9a8fe5d3c8>"
      ]
     },
     "execution_count": 11,
     "metadata": {},
     "output_type": "execute_result"
    }
   ],
   "source": [
    "autoencoder.fit(x_train, x_train,\n",
    "                epochs=50,\n",
    "                batch_size=256,\n",
    "                shuffle=False,\n",
    "                validation_data=(x_test, x_test))"
   ]
  },
  {
   "cell_type": "code",
   "execution_count": 12,
   "metadata": {},
   "outputs": [],
   "source": [
    "# encode and decode some digits\n",
    "# note that we take them from the *test* set\n",
    "encoded_imgs = encoder.predict(x_test)\n",
    "decoded_imgs = decoder.predict(encoded_imgs)"
   ]
  },
  {
   "cell_type": "code",
   "execution_count": 13,
   "metadata": {},
   "outputs": [
    {
     "data": {
      "image/png": "[encoded data removed]",
      "text/plain": [
       "<Figure size 1440x288 with 20 Axes>"
      ]
     },
     "metadata": {},
     "output_type": "display_data"
    }
   ],
   "source": [
    "# use Matplotlib (don't ask)\n",
    "import matplotlib.pyplot as plt\n",
    "\n",
    "n = 10  # how many digits we will display\n",
    "plt.figure(figsize=(20, 4))\n",
    "for i in range(n):\n",
    "    # display original\n",
    "    ax = plt.subplot(2, n, i + 1)\n",
    "    plt.imshow(x_test[i].reshape(6, 1))\n",
    "    plt.gray()\n",
    "    ax.get_xaxis().set_visible(False)\n",
    "    ax.get_yaxis().set_visible(False)\n",
    "\n",
    "    # display reconstruction\n",
    "    ax = plt.subplot(2, n, i + 1 + n)\n",
    "    plt.imshow(decoded_imgs[i].reshape(6, 1))\n",
    "    plt.gray()\n",
    "    ax.get_xaxis().set_visible(False)\n",
    "    ax.get_yaxis().set_visible(False)\n",
    "plt.show()"
   ]
  },
  {
   "cell_type": "code",
   "execution_count": 14,
   "metadata": {},
   "outputs": [
    {
     "name": "stdout",
     "output_type": "stream",
     "text": [
      "[[11.662111    2.6427572   5.192919  ]\n",
      " [ 0.89893687  2.1180158   4.6022606 ]\n",
      " [ 2.9124875   0.          1.3065648 ]\n",
      " ...\n",
      " [ 0.          0.         11.361116  ]\n",
      " [ 3.6351852   0.         11.951279  ]\n",
      " [ 3.6351852   0.         11.951279  ]]\n"
     ]
    }
   ],
   "source": [
    "print(encoded_imgs)"
   ]
  },
  {
   "cell_type": "code",
   "execution_count": 15,
   "metadata": {},
   "outputs": [
    {
     "data": {
      "text/plain": [
       "(5997, 3)"
      ]
     },
     "execution_count": 15,
     "metadata": {},
     "output_type": "execute_result"
    }
   ],
   "source": [
    "encoded_imgs.shape"
   ]
  },
  {
   "cell_type": "code",
   "execution_count": 26,
   "metadata": {},
   "outputs": [
    {
     "data": {
      "text/html": [
       "<div>\n",
       "<style scoped>\n",
       "    .dataframe tbody tr th:only-of-type {\n",
       "        vertical-align: middle;\n",
       "    }\n",
       "\n",
       "    .dataframe tbody tr th {\n",
       "        vertical-align: top;\n",
       "    }\n",
       "\n",
       "    .dataframe thead th {\n",
       "        text-align: right;\n",
       "    }\n",
       "</style>\n",
       "<table border=\"1\" class=\"dataframe\">\n",
       "  <thead>\n",
       "    <tr style=\"text-align: right;\">\n",
       "      <th></th>\n",
       "      <th>Debt_Apr_May</th>\n",
       "      <th>Debt_May_Jun</th>\n",
       "      <th>Debt_Jun_Jul</th>\n",
       "      <th>Debt_Jul_Aug</th>\n",
       "      <th>Debt_Aug_Sept</th>\n",
       "      <th>Def</th>\n",
       "    </tr>\n",
       "  </thead>\n",
       "  <tbody>\n",
       "    <tr>\n",
       "      <th>0</th>\n",
       "      <td>0.0</td>\n",
       "      <td>0.0</td>\n",
       "      <td>1.0</td>\n",
       "      <td>1.0</td>\n",
       "      <td>1.0</td>\n",
       "      <td>1.0</td>\n",
       "    </tr>\n",
       "  </tbody>\n",
       "</table>\n",
       "</div>"
      ],
      "text/plain": [
       "   Debt_Apr_May  Debt_May_Jun  Debt_Jun_Jul  Debt_Jul_Aug  Debt_Aug_Sept  Def\n",
       "0           0.0           0.0           1.0           1.0            1.0  1.0"
      ]
     },
     "execution_count": 26,
     "metadata": {},
     "output_type": "execute_result"
    }
   ],
   "source": [
    "df.head(1)"
   ]
  },
  {
   "cell_type": "code",
   "execution_count": 27,
   "metadata": {},
   "outputs": [],
   "source": [
    "test = decoded_imgs[1,:]"
   ]
  },
  {
   "cell_type": "code",
   "execution_count": 25,
   "metadata": {},
   "outputs": [
    {
     "data": {
      "text/plain": [
       "array([7.4834216e-01, 3.1854880e-01, 2.4071336e-04, 5.1713109e-01,\n",
       "       0.0000000e+00, 2.0794079e-01], dtype=float32)"
      ]
     },
     "execution_count": 25,
     "metadata": {},
     "output_type": "execute_result"
    }
   ],
   "source": [
    "test"
   ]
  },
  {
   "cell_type": "code",
   "execution_count": 18,
   "metadata": {},
   "outputs": [
    {
     "data": {
      "text/plain": [
       "(5997, 6)"
      ]
     },
     "execution_count": 18,
     "metadata": {},
     "output_type": "execute_result"
    }
   ],
   "source": [
    "decoded_imgs.shape"
   ]
  },
  {
   "cell_type": "code",
   "execution_count": 19,
   "metadata": {},
   "outputs": [
    {
     "name": "stdout",
     "output_type": "stream",
     "text": [
      "[[ 1. -1.  1. -1. -1.  0.]\n",
      " [ 1. -1.  1.  1. -1.  0.]\n",
      " [ 1.  1. -1. -1.  1.  0.]\n",
      " ...\n",
      " [ 1.  1. -1.  1. -1.  0.]\n",
      " [ 1.  1. -1. -1. -1.  1.]\n",
      " [ 1.  1. -1. -1. -1.  1.]]\n"
     ]
    }
   ],
   "source": [
    "print(x_test)"
   ]
  },
  {
   "cell_type": "code",
   "execution_count": null,
   "metadata": {},
   "outputs": [],
   "source": []
  }
 ],
 "metadata": {
  "kernelspec": {
   "display_name": "Python 3",
   "language": "python",
   "name": "python3"
  },
  "language_info": {
   "codemirror_mode": {
    "name": "ipython",
    "version": 3
   },
   "file_extension": ".py",
   "mimetype": "text/x-python",
   "name": "python",
   "nbconvert_exporter": "python",
   "pygments_lexer": "ipython3",
   "version": "3.6.5"
  }
 },
 "nbformat": 4,
 "nbformat_minor": 2
}
