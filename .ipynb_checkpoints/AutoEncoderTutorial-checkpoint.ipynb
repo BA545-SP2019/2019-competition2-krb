{
 "cells": [
  {
   "cell_type": "code",
   "execution_count": 1,
   "metadata": {},
   "outputs": [
    {
     "name": "stderr",
     "output_type": "stream",
     "text": [
      "Using TensorFlow backend.\n"
     ]
    }
   ],
   "source": [
    "from keras.layers import Input, Dense\n",
    "from keras.models import Model\n",
    "import pandas as pd\n",
    "import numpy as np\n",
    "import matplotlib.pyplot as plt\n",
    "from sklearn import preprocessing\n",
    "from sklearn.feature_selection import RFE\n",
    "from sklearn.linear_model import LogisticRegression\n",
    "from sklearn.decomposition import PCA\n",
    "from pandas import ExcelWriter\n",
    "from sklearn.model_selection import train_test_split"
   ]
  },
  {
   "cell_type": "code",
   "execution_count": 2,
   "metadata": {},
   "outputs": [
    {
     "data": {
      "text/html": [
       "<div>\n",
       "<style scoped>\n",
       "    .dataframe tbody tr th:only-of-type {\n",
       "        vertical-align: middle;\n",
       "    }\n",
       "\n",
       "    .dataframe tbody tr th {\n",
       "        vertical-align: top;\n",
       "    }\n",
       "\n",
       "    .dataframe thead th {\n",
       "        text-align: right;\n",
       "    }\n",
       "</style>\n",
       "<table border=\"1\" class=\"dataframe\">\n",
       "  <thead>\n",
       "    <tr style=\"text-align: right;\">\n",
       "      <th></th>\n",
       "      <th>Default</th>\n",
       "      <th>Debt_Apr_May</th>\n",
       "      <th>Debt_May_Jun</th>\n",
       "      <th>Debt_Jun_Jul</th>\n",
       "      <th>Debt_Jul_Aug</th>\n",
       "      <th>Debt_Aug_Sept</th>\n",
       "    </tr>\n",
       "  </thead>\n",
       "  <tbody>\n",
       "    <tr>\n",
       "      <th>0</th>\n",
       "      <td>1.0</td>\n",
       "      <td>0.0</td>\n",
       "      <td>0.0</td>\n",
       "      <td>1.0</td>\n",
       "      <td>1.0</td>\n",
       "      <td>1.0</td>\n",
       "    </tr>\n",
       "    <tr>\n",
       "      <th>1</th>\n",
       "      <td>1.0</td>\n",
       "      <td>1.0</td>\n",
       "      <td>-1.0</td>\n",
       "      <td>-1.0</td>\n",
       "      <td>-1.0</td>\n",
       "      <td>1.0</td>\n",
       "    </tr>\n",
       "    <tr>\n",
       "      <th>2</th>\n",
       "      <td>0.0</td>\n",
       "      <td>1.0</td>\n",
       "      <td>-1.0</td>\n",
       "      <td>-1.0</td>\n",
       "      <td>-1.0</td>\n",
       "      <td>1.0</td>\n",
       "    </tr>\n",
       "    <tr>\n",
       "      <th>3</th>\n",
       "      <td>0.0</td>\n",
       "      <td>-1.0</td>\n",
       "      <td>-1.0</td>\n",
       "      <td>1.0</td>\n",
       "      <td>-1.0</td>\n",
       "      <td>-1.0</td>\n",
       "    </tr>\n",
       "    <tr>\n",
       "      <th>4</th>\n",
       "      <td>0.0</td>\n",
       "      <td>1.0</td>\n",
       "      <td>-1.0</td>\n",
       "      <td>1.0</td>\n",
       "      <td>-1.0</td>\n",
       "      <td>1.0</td>\n",
       "    </tr>\n",
       "  </tbody>\n",
       "</table>\n",
       "</div>"
      ],
      "text/plain": [
       "   Default  Debt_Apr_May  Debt_May_Jun  Debt_Jun_Jul  Debt_Jul_Aug  \\\n",
       "0      1.0           0.0           0.0           1.0           1.0   \n",
       "1      1.0           1.0          -1.0          -1.0          -1.0   \n",
       "2      0.0           1.0          -1.0          -1.0          -1.0   \n",
       "3      0.0          -1.0          -1.0           1.0          -1.0   \n",
       "4      0.0           1.0          -1.0           1.0          -1.0   \n",
       "\n",
       "   Debt_Aug_Sept  \n",
       "0            1.0  \n",
       "1            1.0  \n",
       "2            1.0  \n",
       "3           -1.0  \n",
       "4            1.0  "
      ]
     },
     "execution_count": 2,
     "metadata": {},
     "output_type": "execute_result"
    }
   ],
   "source": [
    "df = pd.read_csv('Output.csv')\n",
    "df = df.drop(columns = ['Unnamed: 0'])\n",
    "df.head()"
   ]
  },
  {
   "cell_type": "code",
   "execution_count": null,
   "metadata": {},
   "outputs": [],
   "source": []
  },
  {
   "cell_type": "code",
   "execution_count": 3,
   "metadata": {},
   "outputs": [
    {
     "name": "stdout",
     "output_type": "stream",
     "text": [
      "WARNING:tensorflow:From /home/jupyter-bwalsh/.local/lib/python3.6/site-packages/tensorflow/python/framework/op_def_library.py:263: colocate_with (from tensorflow.python.framework.ops) is deprecated and will be removed in a future version.\n",
      "Instructions for updating:\n",
      "Colocations handled automatically by placer.\n"
     ]
    }
   ],
   "source": [
    "encoding_dim = 3  # 32 floats -> compression of factor 24.5, assuming the input is 784 floats\n",
    "\n",
    "# this is our input placeholder\n",
    "input_img = Input(shape=(5,))\n",
    "# \"encoded\" is the encoded representation of the input\n",
    "encoded = Dense(encoding_dim, activation='relu')(input_img)\n",
    "# \"decoded\" is the lossy reconstruction of the input\n",
    "decoded = Dense(5, activation='sigmoid')(encoded)\n",
    "\n",
    "# this model maps an input to its reconstruction\n",
    "autoencoder = Model(input_img, decoded)"
   ]
  },
  {
   "cell_type": "code",
   "execution_count": 4,
   "metadata": {},
   "outputs": [],
   "source": [
    "# this model maps an input to its encoded representation\n",
    "encoder = Model(input_img, encoded)"
   ]
  },
  {
   "cell_type": "code",
   "execution_count": 5,
   "metadata": {},
   "outputs": [],
   "source": [
    "# create a placeholder for an encoded (32-dimensional) input\n",
    "encoded_input = Input(shape=(encoding_dim,))\n",
    "# retrieve the last layer of the autoencoder model\n",
    "decoder_layer = autoencoder.layers[-1]\n",
    "# create the decoder model\n",
    "decoder = Model(encoded_input, decoder_layer(encoded_input))"
   ]
  },
  {
   "cell_type": "code",
   "execution_count": 6,
   "metadata": {},
   "outputs": [],
   "source": [
    "autoencoder.compile(optimizer='adadelta', loss='binary_crossentropy')"
   ]
  },
  {
   "cell_type": "code",
   "execution_count": 7,
   "metadata": {},
   "outputs": [],
   "source": [
    "from keras.datasets import mnist\n",
    "import numpy as np\n",
    "(x_train, _), (x_test, _) = mnist.load_data()"
   ]
  },
  {
   "cell_type": "code",
   "execution_count": 8,
   "metadata": {},
   "outputs": [
    {
     "data": {
      "text/plain": [
       "['Default',\n",
       " 'Debt_Apr_May',\n",
       " 'Debt_May_Jun',\n",
       " 'Debt_Jun_Jul',\n",
       " 'Debt_Jul_Aug',\n",
       " 'Debt_Aug_Sept']"
      ]
     },
     "execution_count": 8,
     "metadata": {},
     "output_type": "execute_result"
    }
   ],
   "source": [
    "cols = list(df.columns)\n",
    "cols"
   ]
  },
  {
   "cell_type": "code",
   "execution_count": 9,
   "metadata": {},
   "outputs": [],
   "source": [
    "X = df[cols[1:]].values\n",
    "y = df.Default.values"
   ]
  },
  {
   "cell_type": "code",
   "execution_count": 10,
   "metadata": {},
   "outputs": [],
   "source": [
    "x_train, x_test, y_train, y_test = train_test_split(X, y, test_size=0.2, random_state=123)"
   ]
  },
  {
   "cell_type": "code",
   "execution_count": 11,
   "metadata": {},
   "outputs": [
    {
     "name": "stdout",
     "output_type": "stream",
     "text": [
      "(23985, 5)\n",
      "(5997, 5)\n"
     ]
    }
   ],
   "source": [
    "x_train = x_train.astype('float32')\n",
    "x_test = x_test.astype('float32')\n",
    "x_train = x_train.reshape((len(x_train), np.prod(x_train.shape[1:])))\n",
    "x_test = x_test.reshape((len(x_test), np.prod(x_test.shape[1:])))\n",
    "print (x_train.shape)\n",
    "print (x_test.shape)"
   ]
  },
  {
   "cell_type": "code",
   "execution_count": 12,
   "metadata": {},
   "outputs": [
    {
     "name": "stdout",
     "output_type": "stream",
     "text": [
      "WARNING:tensorflow:From /home/jupyter-bwalsh/.local/lib/python3.6/site-packages/tensorflow/python/ops/math_ops.py:3066: to_int32 (from tensorflow.python.ops.math_ops) is deprecated and will be removed in a future version.\n",
      "Instructions for updating:\n",
      "Use tf.cast instead.\n",
      "Train on 23985 samples, validate on 5997 samples\n",
      "Epoch 1/50\n",
      "23985/23985 [==============================] - 0s 14us/step - loss: 0.6678 - val_loss: 0.5229\n",
      "Epoch 2/50\n",
      "23985/23985 [==============================] - 0s 5us/step - loss: 0.2387 - val_loss: -0.2055\n",
      "Epoch 3/50\n",
      "23985/23985 [==============================] - 0s 5us/step - loss: -0.9022 - val_loss: -1.6388\n",
      "Epoch 4/50\n",
      "23985/23985 [==============================] - 0s 5us/step - loss: -1.9640 - val_loss: -2.3725\n",
      "Epoch 5/50\n",
      "23985/23985 [==============================] - 0s 5us/step - loss: -2.5649 - val_loss: -2.8738\n",
      "Epoch 6/50\n",
      "23985/23985 [==============================] - 0s 5us/step - loss: -3.0201 - val_loss: -3.3264\n",
      "Epoch 7/50\n",
      "23985/23985 [==============================] - 0s 5us/step - loss: -3.4231 - val_loss: -3.6626\n",
      "Epoch 8/50\n",
      "23985/23985 [==============================] - 0s 5us/step - loss: -3.7225 - val_loss: -3.9243\n",
      "Epoch 9/50\n",
      "23985/23985 [==============================] - 0s 5us/step - loss: -3.9275 - val_loss: -4.0914\n",
      "Epoch 10/50\n",
      "23985/23985 [==============================] - 0s 5us/step - loss: -4.0664 - val_loss: -4.2209\n",
      "Epoch 11/50\n",
      "23985/23985 [==============================] - 0s 5us/step - loss: -4.1821 - val_loss: -4.3342\n",
      "Epoch 12/50\n",
      "23985/23985 [==============================] - 0s 5us/step - loss: -4.2740 - val_loss: -4.4112\n",
      "Epoch 13/50\n",
      "23985/23985 [==============================] - 0s 5us/step - loss: -4.3356 - val_loss: -4.4620\n",
      "Epoch 14/50\n",
      "23985/23985 [==============================] - 0s 5us/step - loss: -4.3776 - val_loss: -4.5011\n",
      "Epoch 15/50\n",
      "23985/23985 [==============================] - 0s 5us/step - loss: -4.4077 - val_loss: -4.5169\n",
      "Epoch 16/50\n",
      "23985/23985 [==============================] - 0s 5us/step - loss: -4.4314 - val_loss: -4.5426\n",
      "Epoch 17/50\n",
      "23985/23985 [==============================] - 0s 5us/step - loss: -4.4504 - val_loss: -4.5636\n",
      "Epoch 18/50\n",
      "23985/23985 [==============================] - 0s 5us/step - loss: -4.4660 - val_loss: -4.5750\n",
      "Epoch 19/50\n",
      "23985/23985 [==============================] - 0s 5us/step - loss: -4.4799 - val_loss: -4.5828\n",
      "Epoch 20/50\n",
      "23985/23985 [==============================] - 0s 5us/step - loss: -4.4960 - val_loss: -4.6109\n",
      "Epoch 21/50\n",
      "23985/23985 [==============================] - 0s 5us/step - loss: -4.5118 - val_loss: -4.6260\n",
      "Epoch 22/50\n",
      "23985/23985 [==============================] - 0s 5us/step - loss: -4.5268 - val_loss: -4.6355\n",
      "Epoch 23/50\n",
      "23985/23985 [==============================] - 0s 5us/step - loss: -4.5394 - val_loss: -4.6522\n",
      "Epoch 24/50\n",
      "23985/23985 [==============================] - 0s 5us/step - loss: -4.5550 - val_loss: -4.6665\n",
      "Epoch 25/50\n",
      "23985/23985 [==============================] - 0s 5us/step - loss: -4.5671 - val_loss: -4.6716\n",
      "Epoch 26/50\n",
      "23985/23985 [==============================] - 0s 5us/step - loss: -4.5815 - val_loss: -4.6901\n",
      "Epoch 27/50\n",
      "23985/23985 [==============================] - 0s 5us/step - loss: -4.5971 - val_loss: -4.7060\n",
      "Epoch 28/50\n",
      "23985/23985 [==============================] - 0s 5us/step - loss: -4.6078 - val_loss: -4.7163\n",
      "Epoch 29/50\n",
      "23985/23985 [==============================] - 0s 5us/step - loss: -4.6267 - val_loss: -4.7315\n",
      "Epoch 30/50\n",
      "23985/23985 [==============================] - 0s 5us/step - loss: -4.6496 - val_loss: -4.7601\n",
      "Epoch 31/50\n",
      "23985/23985 [==============================] - 0s 5us/step - loss: -4.6693 - val_loss: -4.7821\n",
      "Epoch 32/50\n",
      "23985/23985 [==============================] - 0s 5us/step - loss: -4.6907 - val_loss: -4.8046\n",
      "Epoch 33/50\n",
      "23985/23985 [==============================] - 0s 5us/step - loss: -4.7128 - val_loss: -4.8195\n",
      "Epoch 34/50\n",
      "23985/23985 [==============================] - 0s 5us/step - loss: -4.7296 - val_loss: -4.8315\n",
      "Epoch 35/50\n",
      "23985/23985 [==============================] - 0s 5us/step - loss: -4.7446 - val_loss: -4.8478\n",
      "Epoch 36/50\n",
      "23985/23985 [==============================] - 0s 5us/step - loss: -4.7563 - val_loss: -4.8517\n",
      "Epoch 37/50\n",
      "23985/23985 [==============================] - 0s 5us/step - loss: -4.7669 - val_loss: -4.8637\n",
      "Epoch 38/50\n",
      "23985/23985 [==============================] - 0s 5us/step - loss: -4.7773 - val_loss: -4.8769\n",
      "Epoch 39/50\n",
      "23985/23985 [==============================] - 0s 5us/step - loss: -4.7861 - val_loss: -4.8890\n",
      "Epoch 40/50\n",
      "23985/23985 [==============================] - 0s 5us/step - loss: -4.7938 - val_loss: -4.8957\n",
      "Epoch 41/50\n",
      "23985/23985 [==============================] - 0s 5us/step - loss: -4.8008 - val_loss: -4.9012\n",
      "Epoch 42/50\n",
      "23985/23985 [==============================] - 0s 5us/step - loss: -4.8059 - val_loss: -4.9014\n",
      "Epoch 43/50\n",
      "23985/23985 [==============================] - 0s 5us/step - loss: -4.8102 - val_loss: -4.9095\n",
      "Epoch 44/50\n",
      "23985/23985 [==============================] - 0s 5us/step - loss: -4.8151 - val_loss: -4.9066\n",
      "Epoch 45/50\n",
      "23985/23985 [==============================] - 0s 5us/step - loss: -4.8166 - val_loss: -4.9146\n",
      "Epoch 46/50\n",
      "23985/23985 [==============================] - 0s 5us/step - loss: -4.8204 - val_loss: -4.9097\n",
      "Epoch 47/50\n",
      "23985/23985 [==============================] - 0s 5us/step - loss: -4.8254 - val_loss: -4.9243\n",
      "Epoch 48/50\n",
      "23985/23985 [==============================] - 0s 5us/step - loss: -4.8287 - val_loss: -4.9168\n",
      "Epoch 49/50\n",
      "23985/23985 [==============================] - 0s 5us/step - loss: -4.8318 - val_loss: -4.9337\n",
      "Epoch 50/50\n",
      "23985/23985 [==============================] - 0s 5us/step - loss: -4.8353 - val_loss: -4.9342\n"
     ]
    },
    {
     "data": {
      "text/plain": [
       "<keras.callbacks.History at 0x7f01b09f0898>"
      ]
     },
     "execution_count": 12,
     "metadata": {},
     "output_type": "execute_result"
    }
   ],
   "source": [
    "autoencoder.fit(x_train, x_train,\n",
    "                epochs=50,\n",
    "                batch_size=256,\n",
    "                shuffle=True,\n",
    "                validation_data=(x_test, x_test))"
   ]
  },
  {
   "cell_type": "code",
   "execution_count": 13,
   "metadata": {},
   "outputs": [],
   "source": [
    "# encode and decode some digits\n",
    "# note that we take them from the *test* set\n",
    "encoded_imgs = encoder.predict(x_test)\n",
    "decoded_imgs = decoder.predict(encoded_imgs)"
   ]
  },
  {
   "cell_type": "code",
   "execution_count": 14,
   "metadata": {},
   "outputs": [
    {
     "data": {
      "image/png": "[encoded data removed]",
      "text/plain": [
       "<Figure size 1440x288 with 20 Axes>"
      ]
     },
     "metadata": {},
     "output_type": "display_data"
    }
   ],
   "source": [
    "# use Matplotlib (don't ask)\n",
    "import matplotlib.pyplot as plt\n",
    "\n",
    "n = 10  # how many digits we will display\n",
    "plt.figure(figsize=(20, 4))\n",
    "for i in range(n):\n",
    "    # display original\n",
    "    ax = plt.subplot(2, n, i + 1)\n",
    "    plt.imshow(x_test[i].reshape(5, 1))\n",
    "    plt.gray()\n",
    "    ax.get_xaxis().set_visible(False)\n",
    "    ax.get_yaxis().set_visible(False)\n",
    "\n",
    "    # display reconstruction\n",
    "    ax = plt.subplot(2, n, i + 1 + n)\n",
    "    plt.imshow(decoded_imgs[i].reshape(5, 1))\n",
    "    plt.gray()\n",
    "    ax.get_xaxis().set_visible(False)\n",
    "    ax.get_yaxis().set_visible(False)\n",
    "plt.show()"
   ]
  },
  {
   "cell_type": "code",
   "execution_count": 15,
   "metadata": {},
   "outputs": [
    {
     "name": "stdout",
     "output_type": "stream",
     "text": [
      "[[9.616947  0.        6.281297 ]\n",
      " [4.763818  1.8294653 5.943746 ]\n",
      " [1.5571958 5.5019608 0.       ]\n",
      " ...\n",
      " [0.        9.016426  5.887051 ]\n",
      " [2.0595927 5.5768332 6.224602 ]\n",
      " [2.0595927 5.5768332 6.224602 ]]\n"
     ]
    }
   ],
   "source": [
    "print(encoded_imgs)"
   ]
  },
  {
   "cell_type": "code",
   "execution_count": 16,
   "metadata": {},
   "outputs": [
    {
     "data": {
      "text/plain": [
       "(5997, 3)"
      ]
     },
     "execution_count": 16,
     "metadata": {},
     "output_type": "execute_result"
    }
   ],
   "source": [
    "encoded_imgs.shape"
   ]
  },
  {
   "cell_type": "code",
   "execution_count": 17,
   "metadata": {},
   "outputs": [
    {
     "name": "stdout",
     "output_type": "stream",
     "text": [
      "[[7.6684356e-04 0.0000000e+00 9.9999976e-01 0.0000000e+00 1.4901161e-07]\n",
      " [2.9051304e-04 2.9802322e-08 8.7872529e-01 6.7323446e-05 0.0000000e+00]\n",
      " [6.9004512e-01 4.0528715e-01 5.9604645e-08 1.8393660e-01 9.9999964e-01]\n",
      " ...\n",
      " [3.9339066e-04 9.9999380e-01 0.0000000e+00 9.8802674e-01 5.9604645e-08]\n",
      " [1.9204617e-04 3.3445475e-01 8.9406967e-08 1.3703030e-01 0.0000000e+00]\n",
      " [1.9204617e-04 3.3445475e-01 8.9406967e-08 1.3703030e-01 2.1522402e-09]]\n"
     ]
    }
   ],
   "source": [
    "print(decoded_imgs)"
   ]
  },
  {
   "cell_type": "code",
   "execution_count": 18,
   "metadata": {},
   "outputs": [
    {
     "data": {
      "text/plain": [
       "(5997, 5)"
      ]
     },
     "execution_count": 18,
     "metadata": {},
     "output_type": "execute_result"
    }
   ],
   "source": [
    "decoded_imgs.shape"
   ]
  },
  {
   "cell_type": "code",
   "execution_count": null,
   "metadata": {},
   "outputs": [],
   "source": []
  }
 ],
 "metadata": {
  "kernelspec": {
   "display_name": "Python 3",
   "language": "python",
   "name": "python3"
  },
  "language_info": {
   "codemirror_mode": {
    "name": "ipython",
    "version": 3
   },
   "file_extension": ".py",
   "mimetype": "text/x-python",
   "name": "python",
   "nbconvert_exporter": "python",
   "pygments_lexer": "ipython3",
   "version": "3.6.5"
  }
 },
 "nbformat": 4,
 "nbformat_minor": 2
}
